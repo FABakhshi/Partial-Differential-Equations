{
 "cells": [
  {
   "cell_type": "markdown",
   "metadata": {},
   "source": [
    "Let $f:[a,b] \\to R$ be a continuous function ($a<b$). Let $a=x_{0}<x_{1}<...<x_{N}=b$ be a partition of $[a,b]$ with $h:=\\frac{b-a}{N}$.\n",
    "The Trapezoidal rule for approximation of $\\int_a^bf(x)dx$ is \n",
    "\n",
    "$\\int_a^bf(x)dx\\approx\\frac{h}{2}\\bigg(f(a)+f(b)+2\\sum_{k=1}^{N-1}f(a+kh)\\bigg)$.\n",
    "\n",
    "Also, the Midpoint rule for approximation of $\\int_a^bf(x)dx$ is \n",
    "\n",
    "$\\int_a^bf(x)dx\\approx h\\Bigg(\\sum_{k=1}^{N}f\\bigg(a+\\frac{2k-1}{2}h\\bigg)\\Bigg)$\n",
    "\n",
    "To implement the composite trapezoidal and midpoint rule, consider the two cases $N = 10$ and $N = 100$ and some simple example function like\n",
    "\n",
    "$f(x)=\\frac{xe^x}{(x+1)^2}\\ ,\\ \\ x\\in[0,1]$.\n",
    "\n",
    "The following is the numerical results which has been done by Python:\n"
   ]
  },
  {
   "cell_type": "code",
   "execution_count": 7,
   "metadata": {},
   "outputs": [
    {
     "name": "stdout",
     "output_type": "stream",
     "text": [
      "The approximate integral is 0.359273\n"
     ]
    }
   ],
   "source": [
    "import math\n",
    "import numpy as np\n",
    "import matplotlib.pyplot as plt\n",
    "\n",
    "# Function\n",
    "def f(x):\n",
    "    return x * (math.e)**x / (x + 1)**2\n",
    "\n",
    "# Domain parameters\n",
    "a = 0\n",
    "b = 1\n",
    "N = 11   ### Number of nodes (add one additional node since \n",
    "         ### x0 is included)\n",
    "\n",
    "# Trapeziodal rule function\n",
    "def myTrapezoidalRule(f, a, b, N):\n",
    "    \n",
    "    ## Generate mesh\n",
    "    x = np.linspace(a ,b, N)\n",
    "    h = (b - a)/(N-1)    ### Distance between 2 nodes\n",
    "    \n",
    "    ## Calculate the approximate integral using trapezoidal rule \n",
    "    ## and store the result in t\n",
    "    t = 0\n",
    "    for i in range (N-1):\n",
    "        t += (h / 2) * (f(x[i]) + f(x[i+1]))\n",
    "            \n",
    "    return t\n",
    "\n",
    "# Midpoint rule function\n",
    "def myMidpointRule(f, a, b, N):\n",
    "    \n",
    "    ## Generate mesh\n",
    "    x = np.linspace(a ,b, N)\n",
    "    h = (b - a)/(N-1)    ### Distance between 2 nodes\n",
    "    \n",
    "    ## Calculate the approximate integral using midpoint rule \n",
    "    ## and store the result in t\n",
    "    t = 0\n",
    "    for i in range (N-1):\n",
    "        t += h * f((x[i] + x[i+1]) / 2)\n",
    "            \n",
    "    return t\n",
    "\n",
    "# Call the function and print the result\n",
    "#integral = myTrapezoidalRule(f, a, b, N)\n",
    "integral = myMidpointRule(f, a, b, N)\n",
    "\n",
    "print(f'The approximate integral is {integral:.6f}' )\n"
   ]
  },
  {
   "cell_type": "code",
   "execution_count": 14,
   "metadata": {},
   "outputs": [
    {
     "name": "stdout",
     "output_type": "stream",
     "text": [
      "                         N=10     N=100\n",
      "0  Trapezoidal Rule  0.358875  0.359138\n",
      "1     Midpoint Rule  0.359273  0.359142\n"
     ]
    }
   ],
   "source": [
    "import pandas as pd\n",
    "# Create a dictionary with data\n",
    "data = {\n",
    "    '': ['Trapezoidal Rule', 'Midpoint Rule'],\n",
    "    'N=10': [0.358875, 0.359273],\n",
    "    'N=100': [0.359138, 0.359142]\n",
    "}\n",
    "\n",
    "# Create a DataFrame from the dictionary\n",
    "df = pd.DataFrame(data)\n",
    "\n",
    "# Display the DataFrame (table)\n",
    "print(df)"
   ]
  },
  {
   "cell_type": "markdown",
   "metadata": {},
   "source": [
    "In order to investigating the error of the composite trapezoidal rule \n",
    "\n",
    "$|T(h) - \\int_a^b f(x) dx| \\leq C \\frac{1}{N^2}$\n",
    "\n",
    "That $T(h)$ is the approximation of trapezoidal rule. We will now illustrate this convergence property by showing that if $N$ is increased by a factor $2$, then the error of the composite trapezoidal rule will be reduced by a factor of $\\frac{1}{2^2}$. To do so, we use Task 1 with the $g(x) = x^2 + 3x$ as a simple function with $N = 1, 2, 4, 8, 16, 32, 64, 128$ to see the error. In the table below, we have a column that is so-called reduction factor is equal to the proportion of error to the previous one that we expect is equal to $\\frac{1}{2^2}$."
   ]
  },
  {
   "cell_type": "code",
   "execution_count": 11,
   "metadata": {},
   "outputs": [
    {
     "name": "stdout",
     "output_type": "stream",
     "text": [
      "N=3 err=0.04166666666666674 reduction factor=0.25000000000000033\n",
      "N=5 err=0.01041666666666674 reduction factor=0.25000000000000133\n",
      "N=9 err=0.0026041666666667407 reduction factor=0.25000000000000533\n",
      "N=17 err=0.0006510416666667407 reduction factor=0.2500000000000213\n",
      "N=33 err=0.00016276041666674068 reduction factor=0.25000000000008527\n",
      "N=65 err=4.069010416674068e-05 reduction factor=0.25000000000034106\n",
      "N=129 err=1.0172526041740682e-05 reduction factor=0.25000000000136424\n"
     ]
    }
   ],
   "source": [
    "# Function\n",
    "def g(x):\n",
    "    return x**2 + 3*x\n",
    "\n",
    "# True value of the integral of g in the interval [0, 1]\n",
    "trueValue = 11/6 \n",
    "\n",
    "err_prev = None\n",
    "for n in range(8):\n",
    "  N = (2**n)+1\n",
    "  approxTrapezoidal = myTrapezoidalRule(g, a, b, N)\n",
    "\n",
    "  ## Calculate the error\n",
    "  error = abs(trueValue - approxTrapezoidal)\n",
    "  ## Conditionally print the results when n is not equal to 0\n",
    "  if n != 0:\n",
    "        reduction_factor = error / err_prev if err_prev is not None else None\n",
    "        print(f'N={N} err={error} reduction factor={reduction_factor}')\n",
    "\n",
    "  ## Update err_prev for the next iteration\n",
    "  err_prev = error"
   ]
  },
  {
   "cell_type": "code",
   "execution_count": 15,
   "metadata": {},
   "outputs": [
    {
     "name": "stdout",
     "output_type": "stream",
     "text": [
      "                    N=1     N=2     N=4     N=8    N=16    N=32   N=64   N=128\n",
      "0             Error   2  0.0417  0.0104  0.0026  0.0007  0.0002  4.069  1.0172\n",
      "1  Reduction Factor   -  0.2500  0.2500  0.2500  0.2500  0.2500  0.250  0.2500\n"
     ]
    }
   ],
   "source": [
    "# Create a dictionary with data\n",
    "data = {\n",
    "    '': ['Error', 'Reduction Factor'],\n",
    "    'N=1': [2, '-' ],\n",
    "    'N=2': [0.0417, 0.25],\n",
    "    'N=4': [0.0104, 0.25],\n",
    "    'N=8': [0.0026, 0.25],\n",
    "    'N=16': [0.0007, 0.25],\n",
    "    'N=32': [0.0002, 0.25],\n",
    "    'N=64': [4.0690, 0.25],\n",
    "    'N=128': [1.0172, 0.25]\n",
    "}\n",
    "\n",
    "# Create a DataFrame from the dictionary\n",
    "df = pd.DataFrame(data)\n",
    "\n",
    "# Display the DataFrame (table)\n",
    "print(df)"
   ]
  }
 ],
 "metadata": {
  "kernelspec": {
   "display_name": "Python 3",
   "language": "python",
   "name": "python3"
  },
  "language_info": {
   "codemirror_mode": {
    "name": "ipython",
    "version": 3
   },
   "file_extension": ".py",
   "mimetype": "text/x-python",
   "name": "python",
   "nbconvert_exporter": "python",
   "pygments_lexer": "ipython3",
   "version": "3.11.5"
  }
 },
 "nbformat": 4,
 "nbformat_minor": 2
}
